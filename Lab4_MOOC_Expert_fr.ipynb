{
 "cells": [
  {
   "cell_type": "markdown",
   "id": "wPsCwp6aKTnD",
   "metadata": {
    "id": "wPsCwp6aKTnD"
   },
   "source": [
    "# Travaux pratiques 4"
   ]
  },
  {
   "cell_type": "markdown",
   "id": "3LiciM1mW2j3",
   "metadata": {
    "id": "3LiciM1mW2j3"
   },
   "source": [
    "Le but de ce TP est de manipuler les différentes notions abordées dans la vidéo du module 4, consacrée à la prédiction. Pour cela, nous utiliserons un jeu de données réel sans valeurs manquantes, auquel nous ajouterons des valeurs manquantes synthétiques pour contrôler leur effet.\n",
    "\n",
    "Rappelons le contexte de la prédiciton : à partir de nouvelles données $X_{\\mathrm{new}}$, nous voulons prédire une variable cible $y_{\\mathrm{new}}$. Pour cela, nous apprenons un modèle sur un jeu de données d'entraînement $(X_{\\mathrm{train}},y_{\\mathrm{train}})$, où nous connaissons la variable cible.\n",
    "\n",
    "Le TP comporte trois exercices.\n",
    "\n",
    "* Dans l'exercice 1, nous établirons des résultats de référence sans valeurs manquantes, afin de pouvoir évaluer l'effet de celles-ci dans la suite.\n",
    "* Dans l'exercice 2, nous considérerons le cas où seul le jeu d'entraînement est incomplet. L'objectif est de manipuler les méthodes d'imputation déjà vues dans le TP2 pour entraîner un modèle sur un jeu de données $X_{\\mathrm{train}}$ incomplet.\n",
    "* Dans l'exercice 3, nous étudierons le cas où il y a des valeurs manquantes à la fois dans le jeu d'entraînement, et dans les nouvelles données sur lesquelles nous cherchons à prédire la réponse. L'objectif est de comparer les stratégies *one-step* et *two-step* lorsque $X_{\\mathrm{new}}$ est également incomplet."
   ]
  },
  {
   "cell_type": "markdown",
   "id": "lMRqaWG2T_DZ",
   "metadata": {
    "id": "lMRqaWG2T_DZ"
   },
   "source": [
    "# Introduction"
   ]
  },
  {
   "cell_type": "code",
   "execution_count": null,
   "id": "657c5f64",
   "metadata": {
    "id": "657c5f64"
   },
   "outputs": [],
   "source": [
    "from sklearn.datasets import fetch_california_housing\n",
    "from sklearn.model_selection import train_test_split"
   ]
  },
  {
   "cell_type": "markdown",
   "id": "PthspsXDhY9U",
   "metadata": {
    "id": "PthspsXDhY9U"
   },
   "source": [
    "## Librairies importées dans la solution"
   ]
  },
  {
   "cell_type": "code",
   "execution_count": null,
   "id": "8Zp_C4DwhXdb",
   "metadata": {
    "id": "8Zp_C4DwhXdb"
   },
   "outputs": [],
   "source": [
    "import numpy as np\n",
    "import pandas as pd\n",
    "\n",
    "from sklearn.model_selection import cross_val_score\n",
    "from sklearn.metrics import mean_squared_error\n",
    "from sklearn.pipeline import Pipeline\n",
    "\n",
    "from sklearn.impute import SimpleImputer\n",
    "from sklearn.experimental import enable_iterative_imputer\n",
    "from sklearn.impute import IterativeImputer\n",
    "\n",
    "from sklearn.ensemble import RandomForestRegressor"
   ]
  },
  {
   "cell_type": "markdown",
   "id": "FWYB7SkiahtE",
   "metadata": {
    "id": "FWYB7SkiahtE"
   },
   "source": [
    "## Importation et préparation des données"
   ]
  },
  {
   "cell_type": "markdown",
   "id": "F28vcWZAV2lB",
   "metadata": {
    "id": "F28vcWZAV2lB"
   },
   "source": [
    "Tout au long du TP, vous utiliserez le jeu de données classique *California Housing Prices* (https://www.dcc.fc.up.pt/~ltorgo/Regression/cal_housing.html) avec le preprocessing proposé par Scikit-Learn pour n'avoir que des variables numériques.\n",
    "\n",
    "Dans un deuxième temps, vous pouvez refaire le TP en repartant du jeu de données brut pour améliorer les résultats. En effet, en pratique, le choix d'encodage des variables non numériques peut impacter la gestion des valeurs manquantes."
   ]
  },
  {
   "cell_type": "code",
   "execution_count": null,
   "id": "TCCDr0jXQQLo",
   "metadata": {
    "id": "TCCDr0jXQQLo"
   },
   "outputs": [],
   "source": [
    "X_full, y = fetch_california_housing(return_X_y=True, as_frame=False)"
   ]
  },
  {
   "cell_type": "markdown",
   "id": "8mrpN95GWlJC",
   "metadata": {
    "id": "8mrpN95GWlJC"
   },
   "source": [
    "Comme d'habitude en apprentissage supervisé, on veut étudier la capacité de généralisation d'un modèle sur de nouvelles données $X_{\\mathrm{new}}$.\n",
    "\n",
    "En fait, on peut différencier trois jeux de données : le jeu d'entraînement $(X_{\\mathrm{train}},y_{\\mathrm{train}})$ sur lequel le modèle est appris, le jeu de test $(X_{\\mathrm{test}},y_{\\mathrm{test}})$ sur lequel on valide le modèle et pour lequel on a accès à la variable cible (ce sont un peu des nouvelles données factices), et les nouvelles données $X_{\\mathrm{new}}$ sur lequel le modèle est appliqué et pour lequel on veut prédire la variable cible.\n",
    "\n",
    "En pratique, on a souvent deux jeux disjoints par construction, par exemple lorsqu'on entraîne un modèle sur des données d'archive (jeu qui sera découpé en un jeu d'entraînement et en un jeu de test), et qu'on veut le tester sur les données qui viennent d'être collectées (nouvelles données).\n",
    "\n",
    "Ici, nous allons séparer le jeu d'entraînement et de test aléatoirement."
   ]
  },
  {
   "cell_type": "code",
   "execution_count": null,
   "id": "4Qs5p-9jW81y",
   "metadata": {
    "id": "4Qs5p-9jW81y"
   },
   "outputs": [],
   "source": [
    "X_train_full, X_test_full, y_train, y_test = train_test_split(X_full, y, test_size=0.2)"
   ]
  },
  {
   "cell_type": "markdown",
   "id": "hM_kslvTcTVm",
   "metadata": {
    "id": "hM_kslvTcTVm"
   },
   "source": [
    "# Exercice 1 : régression de référence sur le jeu de données complet"
   ]
  },
  {
   "cell_type": "markdown",
   "id": "IBvvfkYvuPKL",
   "metadata": {
    "id": "IBvvfkYvuPKL"
   },
   "source": [
    "Tout l'intérêt d'utiliser un dataset sans `NAs` natifs est de pouvoir établir un score de référence. On établira un tel score sur le jeu de test, puis on le validera statistiquement par validation croisée."
   ]
  },
  {
   "cell_type": "markdown",
   "id": "BiTZgtsTWVB7",
   "metadata": {
    "id": "BiTZgtsTWVB7"
   },
   "source": [
    "## Question 1 : prédiction"
   ]
  },
  {
   "cell_type": "markdown",
   "id": "h0qHOmhau0NF",
   "metadata": {
    "id": "h0qHOmhau0NF"
   },
   "source": [
    "Choisissez un modèle de régression que vous utiliserez dans tout le TP (par exemple en utilisant `sklearn.ensemble`). Entraînez-le sur `X_train_full`, puis évaluez son erreur quadratique moyenne (MSE) sur `X_test_full`."
   ]
  },
  {
   "cell_type": "markdown",
   "id": "c3rJZBBNWBdC",
   "metadata": {
    "id": "c3rJZBBNWBdC",
    "jp-MarkdownHeadingCollapsed": true
   },
   "source": [
    "### Solution"
   ]
  },
  {
   "cell_type": "markdown",
   "id": "kzy7VdYaXYZS",
   "metadata": {
    "id": "kzy7VdYaXYZS"
   },
   "source": [
    "On peut choisir une forêt aléatoire comme modèle de régression avec `RandomForestRegressor`."
   ]
  },
  {
   "cell_type": "code",
   "execution_count": null,
   "id": "hPwaA-KrcbLp",
   "metadata": {
    "colab": {
     "base_uri": "https://localhost:8080/"
    },
    "id": "hPwaA-KrcbLp",
    "outputId": "8a6d379d-26e3-42c2-f8fb-abb09f7aa3a1"
   },
   "outputs": [],
   "source": [
    "regressor = RandomForestRegressor()\n",
    "regressor.fit(X_train_full, y_train)\n",
    "\n",
    "y_pred = regressor.predict(X_test_full)\n",
    "mse_test_full = mean_squared_error(y_test, y_pred)\n",
    "print(f\"Test MSE: {mse_test_full:.4f}\")"
   ]
  },
  {
   "cell_type": "markdown",
   "id": "YBTbbOatWh-F",
   "metadata": {
    "id": "YBTbbOatWh-F"
   },
   "source": [
    "## Question 2 : validation croisée"
   ]
  },
  {
   "cell_type": "markdown",
   "id": "MCr4w7MSQL9g",
   "metadata": {
    "id": "MCr4w7MSQL9g"
   },
   "source": [
    "Afin d'établir un intervalle de confiance sur ce score de généralisation, réalisez une validation croisée du modèle sur `X_train`. Le score sur le jeu de test est-il dans l'intervalle de confiance ?"
   ]
  },
  {
   "cell_type": "markdown",
   "id": "UOEDZXj9Wv8F",
   "metadata": {
    "id": "UOEDZXj9Wv8F",
    "jp-MarkdownHeadingCollapsed": true
   },
   "source": [
    "### Solution"
   ]
  },
  {
   "cell_type": "code",
   "execution_count": null,
   "id": "PgN6wtE1Qvzm",
   "metadata": {
    "id": "PgN6wtE1Qvzm"
   },
   "outputs": [],
   "source": [
    "regressor = RandomForestRegressor()\n",
    "\n",
    "mse_cv_full = - cross_val_score(\n",
    "    regressor,\n",
    "    X_train_full, y_train,\n",
    "    cv=10, scoring='neg_mean_squared_error')"
   ]
  },
  {
   "cell_type": "code",
   "execution_count": null,
   "id": "5YQ415hmSEwp",
   "metadata": {
    "colab": {
     "base_uri": "https://localhost:8080/"
    },
    "id": "5YQ415hmSEwp",
    "outputId": "a18db981-5b0d-4653-96a7-d5f77988d3fa"
   },
   "outputs": [],
   "source": [
    "mu = mse_cv_full.mean()\n",
    "sigma = mse_cv_full.std()\n",
    "print(f\"CV MSE: {mu:.4f} +/- {2*sigma:.4f} --- [{mu-2*sigma:.4f} ; {mu+2*sigma:.4f}] (95% confidence)\")\n",
    "print(f\"Test MSE: {mse_test_full:.4f}\")"
   ]
  },
  {
   "cell_type": "markdown",
   "id": "kid4ITchRgSc",
   "metadata": {
    "id": "kid4ITchRgSc"
   },
   "source": [
    "Le score sur le jeu de test est bien dans l'intervalle de confiance. Cela nous rassure sur l'absence de dérive de distribution entre le train et le test (même si ici on le sait déjà puisqu'on a coupé train et test aléatoirement, mais en pratique, ce n'est pas forcément le cas)."
   ]
  },
  {
   "cell_type": "markdown",
   "id": "NY2FUEjKPxeL",
   "metadata": {
    "id": "NY2FUEjKPxeL"
   },
   "source": [
    "# Exercice 2 : Seul le jeu d'entraînement est incomplet"
   ]
  },
  {
   "cell_type": "markdown",
   "id": "dHU72rS4XcgQ",
   "metadata": {
    "id": "dHU72rS4XcgQ"
   },
   "source": [
    "## Question 1 : génération de valeurs manquantes"
   ]
  },
  {
   "cell_type": "markdown",
   "id": "dNG7l2cvT1mv",
   "metadata": {
    "id": "dNG7l2cvT1mv"
   },
   "source": [
    "En reprenant du code des TPs précédents, générez des valeurs manquantes de type MCAR (lorsque le fait qu'il y a des valeurs manquantes est totalement indépendant des valeurs des données elles-mêmes) sur une copie de `X_train_full`, que vous pourrez appeler `X_train_miss`, avec une probabilité de manque de $p=0.5$ sur toutes les variables."
   ]
  },
  {
   "cell_type": "markdown",
   "id": "7Hhkl-lsXeSP",
   "metadata": {
    "id": "7Hhkl-lsXeSP",
    "jp-MarkdownHeadingCollapsed": true
   },
   "source": [
    "### Solution"
   ]
  },
  {
   "cell_type": "code",
   "execution_count": null,
   "id": "f339oV_4RvVl",
   "metadata": {
    "id": "f339oV_4RvVl"
   },
   "outputs": [],
   "source": [
    "X_train_miss = np.copy(X_train_full)\n",
    "\n",
    "p = 0.5\n",
    "n, d = X_train_miss.shape\n",
    "\n",
    "for j in range(d):\n",
    "  miss_id = (np.random.uniform(0, 1, size=n) < p)\n",
    "  X_train_miss[miss_id, j] = np.nan"
   ]
  },
  {
   "cell_type": "markdown",
   "id": "EyAaoxB2Xg5L",
   "metadata": {
    "id": "EyAaoxB2Xg5L"
   },
   "source": [
    "## Question 2 : imputation par la moyenne"
   ]
  },
  {
   "cell_type": "markdown",
   "id": "sg3Uhr73VGXx",
   "metadata": {
    "id": "sg3Uhr73VGXx"
   },
   "source": [
    "En utilisant le module `sklearn.impute`, imputez `X_train_miss` par ses moyennes. Vous appelerez le résultat `X_train_imp`."
   ]
  },
  {
   "cell_type": "markdown",
   "id": "xzaM9FlMXkZM",
   "metadata": {
    "id": "xzaM9FlMXkZM",
    "jp-MarkdownHeadingCollapsed": true
   },
   "source": [
    "### Solution"
   ]
  },
  {
   "cell_type": "code",
   "execution_count": null,
   "id": "S4NRXaz2bp2k",
   "metadata": {
    "id": "S4NRXaz2bp2k"
   },
   "outputs": [],
   "source": [
    "imputer = SimpleImputer(strategy='mean')\n",
    "X_train_imp = imputer.fit_transform(X_train_miss)"
   ]
  },
  {
   "cell_type": "markdown",
   "id": "uQh7qISOXqdh",
   "metadata": {
    "id": "uQh7qISOXqdh"
   },
   "source": [
    "## Question 3 : prédiction"
   ]
  },
  {
   "cell_type": "markdown",
   "id": "swP7MAKJXuZA",
   "metadata": {
    "id": "swP7MAKJXuZA"
   },
   "source": [
    "Entraînez le même modèle de régression que dans l'exercice 1 sur `X_train_imp`, puis évaluez sa MSE sur `X_test_full`. Comparez l'erreur avec le cas sans valeurs manquants."
   ]
  },
  {
   "cell_type": "markdown",
   "id": "tnWi8QiWQYP0",
   "metadata": {
    "id": "tnWi8QiWQYP0",
    "jp-MarkdownHeadingCollapsed": true
   },
   "source": [
    "### Solution"
   ]
  },
  {
   "cell_type": "code",
   "execution_count": null,
   "id": "nXsURilubykM",
   "metadata": {
    "colab": {
     "base_uri": "https://localhost:8080/"
    },
    "id": "nXsURilubykM",
    "outputId": "b0611f89-9a57-4be1-ec56-b583f6be17ac"
   },
   "outputs": [],
   "source": [
    "regressor = RandomForestRegressor()\n",
    "regressor.fit(X_train_imp, y_train)\n",
    "\n",
    "y_pred = regressor.predict(X_test_full)\n",
    "mse_test_imp = mean_squared_error(y_test, y_pred)\n",
    "print(f\"Test MSE (mean imputation): {mse_test_imp:.4f}\")"
   ]
  },
  {
   "cell_type": "markdown",
   "id": "Xb16QLiKU7IR",
   "metadata": {
    "id": "Xb16QLiKU7IR"
   },
   "source": [
    "La MSE est supérieure au cas sans valeurs manquantes, ce qui est normal puisque nous avons moins d'information."
   ]
  },
  {
   "cell_type": "markdown",
   "id": "S8Z6gziZVSFS",
   "metadata": {
    "id": "S8Z6gziZVSFS"
   },
   "source": [
    "## Question 4 : cas complet"
   ]
  },
  {
   "cell_type": "markdown",
   "id": "elnTBifEVU_5",
   "metadata": {
    "id": "elnTBifEVU_5"
   },
   "source": [
    "Comparez le résultat avec celui obtenu en supprimant toutes les lignes incomplètes. Combien reste-t-il de lignes ?"
   ]
  },
  {
   "cell_type": "markdown",
   "id": "L2LguW4bXcNL",
   "metadata": {
    "id": "L2LguW4bXcNL",
    "jp-MarkdownHeadingCollapsed": true
   },
   "source": [
    "### Solution"
   ]
  },
  {
   "cell_type": "code",
   "execution_count": null,
   "id": "Uweai775Vc2U",
   "metadata": {
    "colab": {
     "base_uri": "https://localhost:8080/"
    },
    "id": "Uweai775Vc2U",
    "outputId": "90408638-155f-4247-d160-ae013012d52a"
   },
   "outputs": [],
   "source": [
    "X_train_cc = X_train_miss[~np.isnan(X_train_miss).any(axis=1)]\n",
    "y_train_cc = y_train[~np.isnan(X_train_miss).any(axis=1)]\n",
    "\n",
    "print(f\"Initialement: {X_train_miss.shape[0]} rows.\")\n",
    "print(f\"Complete case: {X_train_cc.shape[0]} rows.\")\n",
    "\n",
    "regressor = RandomForestRegressor()\n",
    "regressor.fit(X_train_cc, y_train_cc)\n",
    "\n",
    "y_pred = regressor.predict(X_test_full)\n",
    "mse_test_cc = mean_squared_error(y_test, y_pred)\n",
    "print(f\"Test MSE (complete case): {mse_test_cc:.4f}\")"
   ]
  },
  {
   "cell_type": "markdown",
   "id": "e0z2EfeVW9kn",
   "metadata": {
    "id": "e0z2EfeVW9kn"
   },
   "source": [
    "En supprimant toutes les lignes incomplètes, on n'a plus que 66 lignes sur 16512 ! Logiquement, la MSE est largement supérieure."
   ]
  },
  {
   "cell_type": "markdown",
   "id": "p5yPI9VIXKiT",
   "metadata": {
    "id": "p5yPI9VIXKiT"
   },
   "source": [
    "## Question 5 : imputation itérative"
   ]
  },
  {
   "cell_type": "markdown",
   "id": "8VlZaCvFXMHO",
   "metadata": {
    "id": "8VlZaCvFXMHO"
   },
   "source": [
    "Comparez le résultat avec une imputation plus élaborée, en utilisant par exemple la classe `IterativeImputer` de Scikit-learn. Peut-on conclure sur l'intérêt de cette imputation plus élaborée ?"
   ]
  },
  {
   "cell_type": "markdown",
   "id": "HkKkPhKsXaul",
   "metadata": {
    "id": "HkKkPhKsXaul",
    "jp-MarkdownHeadingCollapsed": true
   },
   "source": [
    "### Solution"
   ]
  },
  {
   "cell_type": "code",
   "execution_count": null,
   "id": "8hMMsb7eXZrp",
   "metadata": {
    "colab": {
     "base_uri": "https://localhost:8080/"
    },
    "id": "8hMMsb7eXZrp",
    "outputId": "1172dcbd-b16c-4265-e7af-d3280c15d980"
   },
   "outputs": [],
   "source": [
    "imputer = IterativeImputer()\n",
    "X_train_ii = imputer.fit_transform(X_train_miss)\n",
    "\n",
    "regressor = RandomForestRegressor()\n",
    "regressor.fit(X_train_ii, y_train)\n",
    "\n",
    "y_pred = regressor.predict(X_test_full)\n",
    "mse_test_ii = mean_squared_error(y_test, y_pred)\n",
    "print(f\"Test MSE (iterative imputation): {mse_test_ii:.4f}\")"
   ]
  },
  {
   "cell_type": "markdown",
   "id": "Jwsi09Q4X7gU",
   "metadata": {
    "id": "Jwsi09Q4X7gU"
   },
   "source": [
    "Les scores sont proches. Sans intervalle de confiance, il est difficile de conclure sur l'apport de l'imputation itérative par rapport à la moyenne dans ce cas."
   ]
  },
  {
   "cell_type": "markdown",
   "id": "CUujEsRJNL4N",
   "metadata": {
    "id": "CUujEsRJNL4N"
   },
   "source": [
    "## Question 6 : le piège de la validation de modèle"
   ]
  },
  {
   "cell_type": "markdown",
   "id": "Lgx-v94jNPKk",
   "metadata": {
    "id": "Lgx-v94jNPKk"
   },
   "source": [
    "Nous allons à présent tenter d'appliquer la même stratégie de validation croisée que dans l'exercice 1, pour avoir un intervalle de confiance sur les MSE et comparer les méthodes d'imputation. Repartez du jeu d'entraînement imputé par la moyenne `X_train_imp`, et faites une cross-validation de votre modèle dessus. Le score du jeu de test est-il dans l'intervalle de confiance ? Que peut-on en conclure ?"
   ]
  },
  {
   "cell_type": "markdown",
   "id": "PLhkSzGNQal_",
   "metadata": {
    "id": "PLhkSzGNQal_",
    "jp-MarkdownHeadingCollapsed": true
   },
   "source": [
    "### Solution"
   ]
  },
  {
   "cell_type": "code",
   "execution_count": null,
   "id": "SKcUne2xOTBx",
   "metadata": {
    "id": "SKcUne2xOTBx"
   },
   "outputs": [],
   "source": [
    "regressor = RandomForestRegressor()\n",
    "\n",
    "mse_cv_imp = - cross_val_score(\n",
    "    regressor,\n",
    "    X_train_imp, y_train,\n",
    "    cv=10, scoring='neg_mean_squared_error')"
   ]
  },
  {
   "cell_type": "code",
   "execution_count": null,
   "id": "9-KC0VpXObHm",
   "metadata": {
    "colab": {
     "base_uri": "https://localhost:8080/"
    },
    "id": "9-KC0VpXObHm",
    "outputId": "bf2e8f1d-6921-4cb7-95f0-56a5a756c6bd"
   },
   "outputs": [],
   "source": [
    "mu = mse_cv_imp.mean()\n",
    "sigma = mse_cv_imp.std()\n",
    "print(f\"CV MSE: {mu:.4f} +/- {2*sigma:.4f} --- [{mu-2*sigma:.4f} ; {mu+2*sigma:.4f}] (95% confidence)\")\n",
    "print(f\"Test MSE: {mse_test_imp:.4f}\")"
   ]
  },
  {
   "cell_type": "markdown",
   "id": "Z_BAKB5osEMf",
   "metadata": {
    "id": "Z_BAKB5osEMf"
   },
   "source": [
    "Le résultat sur le jeu de test est très différent (ici bien meilleur) que dans la cross-validation. Cela est dû à une dérive de distribution entre train et test. En introduisant des valeurs manquantes dans `X_train` et pas dans `X_test`, on se place dans un cas non i.i.d., ce qui empêche de valider le modèle par cross-validation. On ne pourra donc pas aller plus loin.\n",
    "\n",
    "Cette situation arrive souvent en pratique. Par exemple, dix ans de données d'archive sont disponibles pour entraîner un modèle mais avec des problèmes de valeurs manquantes (entre autres), et un nouveau protocole a été mis en place depuis quelques semaines pour enregistrer des données propres et valider le modèle dessus."
   ]
  },
  {
   "cell_type": "markdown",
   "id": "3LWBpTE7QMXB",
   "metadata": {
    "id": "3LWBpTE7QMXB"
   },
   "source": [
    "# Exercice 3 : Le jeu d'entraînement et les nouvelles données sont incomplètes"
   ]
  },
  {
   "cell_type": "markdown",
   "id": "nBcQpN-YZrqU",
   "metadata": {
    "id": "nBcQpN-YZrqU"
   },
   "source": [
    "A présent, nous considérons qu'il y a des valeurs manquantes dans `X_test` également, et qu'il n'y a donc pas de dérive de distribution. On se ramène donc à un cas i.i.d."
   ]
  },
  {
   "cell_type": "markdown",
   "id": "N2UUdPVkbDa6",
   "metadata": {
    "id": "N2UUdPVkbDa6"
   },
   "source": [
    "## Question 1 : génération de valeurs manquantes"
   ]
  },
  {
   "cell_type": "markdown",
   "id": "HUGHb-DkbGFG",
   "metadata": {
    "id": "HUGHb-DkbGFG"
   },
   "source": [
    "Comme dans l'exercice 2, générez des valeurs manquantes sur une copie de `X_test_full`, que vous pourrez appeler `X_test_miss`."
   ]
  },
  {
   "cell_type": "markdown",
   "id": "nkQzw23qbZ2K",
   "metadata": {
    "id": "nkQzw23qbZ2K",
    "jp-MarkdownHeadingCollapsed": true
   },
   "source": [
    "### Solution"
   ]
  },
  {
   "cell_type": "code",
   "execution_count": null,
   "id": "FjToMuhTbbh-",
   "metadata": {
    "id": "FjToMuhTbbh-"
   },
   "outputs": [],
   "source": [
    "X_test_miss = np.copy(X_test_full)\n",
    "\n",
    "p = 0.5\n",
    "n, d = X_test_miss.shape\n",
    "\n",
    "for j in range(d):\n",
    "  miss_id = (np.random.uniform(0, 1, size=n) < p)\n",
    "  X_test_miss[miss_id, j] = np.nan"
   ]
  },
  {
   "cell_type": "markdown",
   "id": "upLqHOZ8bpx4",
   "metadata": {
    "id": "upLqHOZ8bpx4"
   },
   "source": [
    "## Question 2 : stratégie two-step"
   ]
  },
  {
   "cell_type": "markdown",
   "id": "pp497EZlbsQb",
   "metadata": {
    "id": "pp497EZlbsQb"
   },
   "source": [
    "Implémentez un pipeline avec une imputation qui fonctionne *out-of-sample* et une régression (vous pourrez utiliser les modules `sklearn.pipeline` et `sklearn.impute`). Entraînez le pipeline sur `X_train_miss` et réaliser une prédiction sur `X_test_miss`. Comparez la MSE obtenue avec celle sans valeurs manquantes."
   ]
  },
  {
   "cell_type": "markdown",
   "id": "eLAOcYUvhPz5",
   "metadata": {
    "id": "eLAOcYUvhPz5",
    "jp-MarkdownHeadingCollapsed": true
   },
   "source": [
    "### Solution"
   ]
  },
  {
   "cell_type": "code",
   "execution_count": null,
   "id": "Pj8K5-qdbWSx",
   "metadata": {
    "colab": {
     "base_uri": "https://localhost:8080/"
    },
    "id": "Pj8K5-qdbWSx",
    "outputId": "967c4869-61f3-4da2-8f77-24ddf58a68d1"
   },
   "outputs": [],
   "source": [
    "pipeline = Pipeline([\n",
    "    ('imputer', SimpleImputer()),\n",
    "    ('regressor', RandomForestRegressor())\n",
    "])\n",
    "\n",
    "pipeline.fit(X_train_miss, y_train)\n",
    "\n",
    "y_pred = pipeline.predict(X_test_miss)\n",
    "mse_test_mistest = mean_squared_error(y_test, y_pred)\n",
    "print(f\"Test MSE (NA in test): {mse_test_mistest:.4f}\")"
   ]
  },
  {
   "cell_type": "markdown",
   "id": "PQZKqupqdBmg",
   "metadata": {
    "id": "PQZKqupqdBmg"
   },
   "source": [
    "Comme attendu, la MSE est nettement supérieure au cas sans valeurs manquantes."
   ]
  },
  {
   "cell_type": "markdown",
   "id": "W-qrqggodRvb",
   "metadata": {
    "id": "W-qrqggodRvb"
   },
   "source": [
    "## Question 3 : validation croisée"
   ]
  },
  {
   "cell_type": "markdown",
   "id": "rbHGfevvdUi8",
   "metadata": {
    "id": "rbHGfevvdUi8"
   },
   "source": [
    "Réalisez une validation croisée sur `X_train_miss` et vérifiez que le score sur `X_test_miss` est dans l'intervalle de confiance de la validation croisée.\n"
   ]
  },
  {
   "cell_type": "markdown",
   "id": "D8mxBbTNhS8T",
   "metadata": {
    "id": "D8mxBbTNhS8T",
    "jp-MarkdownHeadingCollapsed": true
   },
   "source": [
    "### Solution"
   ]
  },
  {
   "cell_type": "code",
   "execution_count": null,
   "id": "IXzKwdPudsQb",
   "metadata": {
    "id": "IXzKwdPudsQb"
   },
   "outputs": [],
   "source": [
    "pipeline = Pipeline([\n",
    "    ('imputer', SimpleImputer()),\n",
    "    ('regressor', RandomForestRegressor())\n",
    "])\n",
    "\n",
    "mse_cv_mistest = - cross_val_score(\n",
    "    pipeline,\n",
    "    X_train_miss, y_train,\n",
    "    cv=10, scoring='neg_mean_squared_error')"
   ]
  },
  {
   "cell_type": "code",
   "execution_count": null,
   "id": "cs7bKG2ReMgQ",
   "metadata": {
    "colab": {
     "base_uri": "https://localhost:8080/"
    },
    "id": "cs7bKG2ReMgQ",
    "outputId": "7833a1c2-a9c6-4959-dd70-1f757f5e8c1f"
   },
   "outputs": [],
   "source": [
    "mu = mse_cv_mistest.mean()\n",
    "sigma = mse_cv_mistest.std()\n",
    "print(f\"CV MSE: {mu:.4f} +/- {2*sigma:.4f} --- [{mu-2*sigma:.4f} ; {mu+2*sigma:.4f}] (95% confidence)\")\n",
    "print(f\"Test MSE: {mse_test_mistest:.4f}\")"
   ]
  },
  {
   "cell_type": "markdown",
   "id": "2XM0T09wfHlQ",
   "metadata": {
    "id": "2XM0T09wfHlQ"
   },
   "source": [
    "## Question 4 : stratégie one-step"
   ]
  },
  {
   "cell_type": "markdown",
   "id": "8xnTknNUfJUI",
   "metadata": {
    "id": "8xnTknNUfJUI"
   },
   "source": [
    "Entraînez sur `X_train_miss` un modèle de régression à base d'arbres fonctionnant sur données incomplètes avec la technique one-step (utilisez `sklearn.ensemble`). Réalisez une prédiction sur `X_test_miss`. Comparez la MSE obtenue avec la stratégie two-steps."
   ]
  },
  {
   "cell_type": "markdown",
   "id": "13EPs3Q2gIc7",
   "metadata": {
    "id": "13EPs3Q2gIc7",
    "jp-MarkdownHeadingCollapsed": true
   },
   "source": [
    "### Solution"
   ]
  },
  {
   "cell_type": "code",
   "execution_count": null,
   "id": "haI2deGGgGqU",
   "metadata": {
    "colab": {
     "base_uri": "https://localhost:8080/"
    },
    "id": "haI2deGGgGqU",
    "outputId": "0e304f1d-69ae-45a3-d3d2-33c557648df5"
   },
   "outputs": [],
   "source": [
    "regressor = RandomForestRegressor()\n",
    "\n",
    "regressor.fit(X_train_miss, y_train)\n",
    "\n",
    "y_pred = regressor.predict(X_test_miss)\n",
    "mse_test_1s = mean_squared_error(y_test, y_pred)\n",
    "print(f\"Test MSE (one step): {mse_test_1s:.4f}\")"
   ]
  },
  {
   "cell_type": "markdown",
   "id": "LmdzipqBggEN",
   "metadata": {
    "id": "LmdzipqBggEN"
   },
   "source": [
    "## Question 5 : validation croisée"
   ]
  },
  {
   "cell_type": "markdown",
   "id": "3nUPxt2TgrrK",
   "metadata": {
    "id": "3nUPxt2TgrrK"
   },
   "source": [
    "Précisez ce résultat avec une validation croisée."
   ]
  },
  {
   "cell_type": "markdown",
   "id": "RtNuxLCjgk97",
   "metadata": {
    "id": "RtNuxLCjgk97",
    "jp-MarkdownHeadingCollapsed": true
   },
   "source": [
    "### Solution"
   ]
  },
  {
   "cell_type": "code",
   "execution_count": null,
   "id": "TP0MI92RgqZh",
   "metadata": {
    "id": "TP0MI92RgqZh"
   },
   "outputs": [],
   "source": [
    "regressor = RandomForestRegressor()\n",
    "\n",
    "mse_cv_1s = - cross_val_score(\n",
    "    regressor,\n",
    "    X_train_miss, y_train,\n",
    "    cv=10, scoring='neg_mean_squared_error')"
   ]
  },
  {
   "cell_type": "code",
   "execution_count": null,
   "id": "DYdHCMHlg4tJ",
   "metadata": {
    "colab": {
     "base_uri": "https://localhost:8080/"
    },
    "id": "DYdHCMHlg4tJ",
    "outputId": "1838230c-5b90-4561-d775-63e30339b56f"
   },
   "outputs": [],
   "source": [
    "mu = mse_cv_1s.mean()\n",
    "sigma = mse_cv_1s.std()\n",
    "print(f\"CV MSE: {mu:.4f} +/- {2*sigma:.4f} --- [{mu-2*sigma:.4f} ; {mu+2*sigma:.4f}] (95% confidence)\")\n",
    "print(f\"Test MSE: {mse_test_1s:.4f}\")"
   ]
  }
 ],
 "metadata": {
  "colab": {
   "provenance": []
  },
  "kernelspec": {
   "display_name": "semipy-venv",
   "language": "python",
   "name": "semipy-venv"
  },
  "language_info": {
   "codemirror_mode": {
    "name": "ipython",
    "version": 3
   },
   "file_extension": ".py",
   "mimetype": "text/x-python",
   "name": "python",
   "nbconvert_exporter": "python",
   "pygments_lexer": "ipython3",
   "version": "3.9.6"
  }
 },
 "nbformat": 4,
 "nbformat_minor": 5
}
