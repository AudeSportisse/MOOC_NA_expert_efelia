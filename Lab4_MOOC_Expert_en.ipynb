{
 "cells": [
  {
   "cell_type": "markdown",
   "id": "wPsCwp6aKTnD",
   "metadata": {
    "id": "wPsCwp6aKTnD"
   },
   "source": [
    "# Lab 4"
   ]
  },
  {
   "cell_type": "markdown",
   "id": "3LiciM1mW2j3",
   "metadata": {
    "id": "3LiciM1mW2j3"
   },
   "source": [
    "The goal of this lab is to work with the various concepts covered in Module 4 of the MOOC, which focuses on prediction. This is done using a real dataset without missing values, to which synthetic missing values are added, in order to control their effect.\n",
    "\n",
    "As a reminder, the goal of prediction, given new data $X_{\\mathrm{new}}$, is to predict a target variable $y_{\\mathrm{new}}$. To do this, a model is trained on a training set $(X_{\\mathrm{train}},y_{\\mathrm{train}})$, where the target variable is known.\n",
    "\n",
    "There are three exercices in this lab.\n",
    "\n",
    "* Exercise 1 establishes baseline results without missing values, in order to assess their effect later on.\n",
    "* Exercise 2 considers the case where only the training set is incomplete. The goal is to apply the imputation methods already introduced in Lab 2, in order to train a model on an incomplete dataset $X_{\\mathrm{train}}$.\n",
    "* Exercise 3 studies the case where there are missing values both in the training set and in the new data on which we aim to predict the response. The goal is to compare *one-step* and *two-step* strategies when $X_{\\mathrm{new}}$ is also incomplete."
   ]
  },
  {
   "cell_type": "markdown",
   "id": "lMRqaWG2T_DZ",
   "metadata": {
    "id": "lMRqaWG2T_DZ"
   },
   "source": [
    "# Introduction"
   ]
  },
  {
   "cell_type": "code",
   "execution_count": null,
   "id": "657c5f64",
   "metadata": {
    "id": "657c5f64"
   },
   "outputs": [],
   "source": [
    "from sklearn.datasets import fetch_california_housing\n",
    "from sklearn.model_selection import train_test_split"
   ]
  },
  {
   "cell_type": "markdown",
   "id": "PthspsXDhY9U",
   "metadata": {
    "id": "PthspsXDhY9U",
    "jp-MarkdownHeadingCollapsed": true
   },
   "source": [
    "## Libraries imported in the solution"
   ]
  },
  {
   "cell_type": "code",
   "execution_count": null,
   "id": "8Zp_C4DwhXdb",
   "metadata": {
    "id": "8Zp_C4DwhXdb"
   },
   "outputs": [],
   "source": [
    "import numpy as np\n",
    "import pandas as pd\n",
    "\n",
    "from sklearn.model_selection import cross_val_score\n",
    "from sklearn.metrics import mean_squared_error\n",
    "from sklearn.pipeline import Pipeline\n",
    "\n",
    "from sklearn.impute import SimpleImputer\n",
    "from sklearn.experimental import enable_iterative_imputer\n",
    "from sklearn.impute import IterativeImputer\n",
    "\n",
    "from sklearn.ensemble import RandomForestRegressor"
   ]
  },
  {
   "cell_type": "markdown",
   "id": "FWYB7SkiahtE",
   "metadata": {
    "id": "FWYB7SkiahtE"
   },
   "source": [
    "## Data Loading and Preprocessing"
   ]
  },
  {
   "cell_type": "markdown",
   "id": "F28vcWZAV2lB",
   "metadata": {
    "id": "F28vcWZAV2lB"
   },
   "source": [
    "Throughout the lab, you will use the classic dataset *California Housing Prices* (https://www.dcc.fc.up.pt/~ltorgo/Regression/cal_housing.html) with the preprocessing provided by Scikit-Learn, so that only numerical variables are included.\n",
    "\n",
    "In a second stage, you can redo the lab starting from the native dataset to improve the results. Indeed, the choice of encoding for non-numerical variables can impact the handling of missing values."
   ]
  },
  {
   "cell_type": "code",
   "execution_count": null,
   "id": "TCCDr0jXQQLo",
   "metadata": {
    "id": "TCCDr0jXQQLo"
   },
   "outputs": [],
   "source": [
    "X_full, y = fetch_california_housing(return_X_y=True, as_frame=False)"
   ]
  },
  {
   "cell_type": "markdown",
   "id": "8mrpN95GWlJC",
   "metadata": {
    "id": "8mrpN95GWlJC"
   },
   "source": [
    "As is common in supervised learning, the goal is to study a model's ability to generalize to new data $X_{\\mathrm{new}}$.\n",
    "\n",
    "Three datasets can be distinguished: the training set $(X_{\\mathrm{train}},y_{\\mathrm{train}})$ used to train the model; the test set $(X_{\\mathrm{test}},y_{\\mathrm{test}})$ used to validate the model and for which the target variable is available (serving as artificial new data); and the new data $X_{\\mathrm{new}}$, on which the model is applied to predict the target variable.\n",
    "\n",
    "In practice, two disjoint datasets are often constructed, for example, when a model is trained on archived data (split into training and test sets) and evaluated on recently collected data (the new data).\n",
    "\n",
    "Here, the dataset will be randomly split into training and test sets."
   ]
  },
  {
   "cell_type": "code",
   "execution_count": null,
   "id": "4Qs5p-9jW81y",
   "metadata": {
    "id": "4Qs5p-9jW81y"
   },
   "outputs": [],
   "source": [
    "X_train_full, X_test_full, y_train, y_test = train_test_split(X_full, y, test_size=0.2)"
   ]
  },
  {
   "cell_type": "markdown",
   "id": "hM_kslvTcTVm",
   "metadata": {
    "id": "hM_kslvTcTVm"
   },
   "source": [
    "# Exercice 1 : baseline regression on the complete dataset"
   ]
  },
  {
   "cell_type": "markdown",
   "id": "IBvvfkYvuPKL",
   "metadata": {
    "id": "IBvvfkYvuPKL"
   },
   "source": [
    "The main advantage of using a dataset without native `NA` values is to establish a baseline score. Such a score will be computed on the test set, then statistically validated through cross-validation."
   ]
  },
  {
   "cell_type": "markdown",
   "id": "BiTZgtsTWVB7",
   "metadata": {
    "id": "BiTZgtsTWVB7"
   },
   "source": [
    "## Question 1 : prediction"
   ]
  },
  {
   "cell_type": "markdown",
   "id": "h0qHOmhau0NF",
   "metadata": {
    "id": "h0qHOmhau0NF"
   },
   "source": [
    "Choose a regression model that will be used throughout the lab (for example by using `sklearn.ensemble`). Train it on `X_train_full`, and evaluate its mean squared error (MSE) on `X_test_full`."
   ]
  },
  {
   "cell_type": "markdown",
   "id": "c3rJZBBNWBdC",
   "metadata": {
    "id": "c3rJZBBNWBdC",
    "jp-MarkdownHeadingCollapsed": true
   },
   "source": [
    "### Solution"
   ]
  },
  {
   "cell_type": "markdown",
   "id": "kzy7VdYaXYZS",
   "metadata": {
    "id": "kzy7VdYaXYZS"
   },
   "source": [
    "A random forest can be chosen as the regression model with `RandomForestRegressor`."
   ]
  },
  {
   "cell_type": "code",
   "execution_count": null,
   "id": "hPwaA-KrcbLp",
   "metadata": {
    "colab": {
     "base_uri": "https://localhost:8080/"
    },
    "id": "hPwaA-KrcbLp",
    "outputId": "8a6d379d-26e3-42c2-f8fb-abb09f7aa3a1"
   },
   "outputs": [],
   "source": [
    "regressor = RandomForestRegressor()\n",
    "regressor.fit(X_train_full, y_train)\n",
    "\n",
    "y_pred = regressor.predict(X_test_full)\n",
    "mse_test_full = mean_squared_error(y_test, y_pred)\n",
    "print(f\"Test MSE: {mse_test_full:.4f}\")"
   ]
  },
  {
   "cell_type": "markdown",
   "id": "YBTbbOatWh-F",
   "metadata": {
    "id": "YBTbbOatWh-F"
   },
   "source": [
    "## Question 2 : cross-validation"
   ]
  },
  {
   "cell_type": "markdown",
   "id": "MCr4w7MSQL9g",
   "metadata": {
    "id": "MCr4w7MSQL9g"
   },
   "source": [
    "To establish a confidence interval for this generalization score, perform cross-validation of the model on`X_train`. Is the test set score within the confidence interval?"
   ]
  },
  {
   "cell_type": "markdown",
   "id": "UOEDZXj9Wv8F",
   "metadata": {
    "id": "UOEDZXj9Wv8F",
    "jp-MarkdownHeadingCollapsed": true
   },
   "source": [
    "### Solution"
   ]
  },
  {
   "cell_type": "code",
   "execution_count": null,
   "id": "PgN6wtE1Qvzm",
   "metadata": {
    "id": "PgN6wtE1Qvzm"
   },
   "outputs": [],
   "source": [
    "regressor = RandomForestRegressor()\n",
    "\n",
    "mse_cv_full = - cross_val_score(\n",
    "    regressor,\n",
    "    X_train_full, y_train,\n",
    "    cv=10, scoring='neg_mean_squared_error')"
   ]
  },
  {
   "cell_type": "code",
   "execution_count": null,
   "id": "5YQ415hmSEwp",
   "metadata": {
    "colab": {
     "base_uri": "https://localhost:8080/"
    },
    "id": "5YQ415hmSEwp",
    "outputId": "a18db981-5b0d-4653-96a7-d5f77988d3fa"
   },
   "outputs": [],
   "source": [
    "mu = mse_cv_full.mean()\n",
    "sigma = mse_cv_full.std()\n",
    "print(f\"CV MSE: {mu:.4f} +/- {2*sigma:.4f} --- [{mu-2*sigma:.4f} ; {mu+2*sigma:.4f}] (95% confidence)\")\n",
    "print(f\"Test MSE: {mse_test_full:.4f}\")"
   ]
  },
  {
   "cell_type": "markdown",
   "id": "kid4ITchRgSc",
   "metadata": {
    "id": "kid4ITchRgSc"
   },
   "source": [
    "The test set score is indeed within the confidence interval. This indicates the absence of distribution shift between the training and test sets (here it is obvious since the train and test sets were randomly split, but in practice, this is not always the case)."
   ]
  },
  {
   "cell_type": "markdown",
   "id": "NY2FUEjKPxeL",
   "metadata": {
    "id": "NY2FUEjKPxeL"
   },
   "source": [
    "# Exercice 2 : only the training set is incomplete"
   ]
  },
  {
   "cell_type": "markdown",
   "id": "dHU72rS4XcgQ",
   "metadata": {
    "id": "dHU72rS4XcgQ"
   },
   "source": [
    "## Question 1 : generating missing values"
   ]
  },
  {
   "cell_type": "markdown",
   "id": "dNG7l2cvT1mv",
   "metadata": {
    "id": "dNG7l2cvT1mv"
   },
   "source": [
    "Using code from previous labs, generate MCAR-type missing values (where the presence of missing values is completely independent of the data values themselves) on a copy of `X_train_full`, which can be called `X_train_miss`, with a missingness probability $p=0.5$ across all variables."
   ]
  },
  {
   "cell_type": "markdown",
   "id": "7Hhkl-lsXeSP",
   "metadata": {
    "id": "7Hhkl-lsXeSP",
    "jp-MarkdownHeadingCollapsed": true
   },
   "source": [
    "### Solution"
   ]
  },
  {
   "cell_type": "code",
   "execution_count": null,
   "id": "f339oV_4RvVl",
   "metadata": {
    "id": "f339oV_4RvVl"
   },
   "outputs": [],
   "source": [
    "X_train_miss = np.copy(X_train_full)\n",
    "\n",
    "p = 0.5\n",
    "n, d = X_train_miss.shape\n",
    "\n",
    "for j in range(d):\n",
    "  miss_id = (np.random.uniform(0, 1, size=n) < p)\n",
    "  X_train_miss[miss_id, j] = np.nan"
   ]
  },
  {
   "cell_type": "markdown",
   "id": "EyAaoxB2Xg5L",
   "metadata": {
    "id": "EyAaoxB2Xg5L"
   },
   "source": [
    "## Question 2 : mean imputation"
   ]
  },
  {
   "cell_type": "markdown",
   "id": "sg3Uhr73VGXx",
   "metadata": {
    "id": "sg3Uhr73VGXx"
   },
   "source": [
    "Using the module `sklearn.impute`, impute `X_train_miss` by the mean. You will name the imputed dataset `X_train_imp`."
   ]
  },
  {
   "cell_type": "markdown",
   "id": "xzaM9FlMXkZM",
   "metadata": {
    "id": "xzaM9FlMXkZM",
    "jp-MarkdownHeadingCollapsed": true
   },
   "source": [
    "### Solution"
   ]
  },
  {
   "cell_type": "code",
   "execution_count": null,
   "id": "S4NRXaz2bp2k",
   "metadata": {
    "id": "S4NRXaz2bp2k"
   },
   "outputs": [],
   "source": [
    "imputer = SimpleImputer(strategy='mean')\n",
    "X_train_imp = imputer.fit_transform(X_train_miss)"
   ]
  },
  {
   "cell_type": "markdown",
   "id": "uQh7qISOXqdh",
   "metadata": {
    "id": "uQh7qISOXqdh"
   },
   "source": [
    "## Question 3 : prédiction"
   ]
  },
  {
   "cell_type": "markdown",
   "id": "swP7MAKJXuZA",
   "metadata": {
    "id": "swP7MAKJXuZA"
   },
   "source": [
    "Train the same regression model as in Exercise 1 on `X_train_imp`, then evaluate its MSE on `X_test_full`. Compare the error with the case without missing values."
   ]
  },
  {
   "cell_type": "markdown",
   "id": "tnWi8QiWQYP0",
   "metadata": {
    "id": "tnWi8QiWQYP0",
    "jp-MarkdownHeadingCollapsed": true
   },
   "source": [
    "### Solution"
   ]
  },
  {
   "cell_type": "code",
   "execution_count": null,
   "id": "nXsURilubykM",
   "metadata": {
    "colab": {
     "base_uri": "https://localhost:8080/"
    },
    "id": "nXsURilubykM",
    "outputId": "b0611f89-9a57-4be1-ec56-b583f6be17ac"
   },
   "outputs": [],
   "source": [
    "regressor = RandomForestRegressor()\n",
    "regressor.fit(X_train_imp, y_train)\n",
    "\n",
    "y_pred = regressor.predict(X_test_full)\n",
    "mse_test_imp = mean_squared_error(y_test, y_pred)\n",
    "print(f\"Test MSE (mean imputation): {mse_test_imp:.4f}\")"
   ]
  },
  {
   "cell_type": "markdown",
   "id": "Xb16QLiKU7IR",
   "metadata": {
    "id": "Xb16QLiKU7IR"
   },
   "source": [
    "The MSE is higher than in the case without missing values, which is expected since there is less information available."
   ]
  },
  {
   "cell_type": "markdown",
   "id": "S8Z6gziZVSFS",
   "metadata": {
    "id": "S8Z6gziZVSFS"
   },
   "source": [
    "## Question 4 : complete case"
   ]
  },
  {
   "cell_type": "markdown",
   "id": "elnTBifEVU_5",
   "metadata": {
    "id": "elnTBifEVU_5"
   },
   "source": [
    "Compare the result with the one obtained by removing all incomplete rows. How many rows remain?"
   ]
  },
  {
   "cell_type": "markdown",
   "id": "L2LguW4bXcNL",
   "metadata": {
    "id": "L2LguW4bXcNL",
    "jp-MarkdownHeadingCollapsed": true
   },
   "source": [
    "### Solution"
   ]
  },
  {
   "cell_type": "code",
   "execution_count": null,
   "id": "Uweai775Vc2U",
   "metadata": {
    "colab": {
     "base_uri": "https://localhost:8080/"
    },
    "id": "Uweai775Vc2U",
    "outputId": "90408638-155f-4247-d160-ae013012d52a"
   },
   "outputs": [],
   "source": [
    "X_train_cc = X_train_miss[~np.isnan(X_train_miss).any(axis=1)]\n",
    "y_train_cc = y_train[~np.isnan(X_train_miss).any(axis=1)]\n",
    "\n",
    "print(f\"Initialement: {X_train_miss.shape[0]} rows.\")\n",
    "print(f\"Complete case: {X_train_cc.shape[0]} rows.\")\n",
    "\n",
    "regressor = RandomForestRegressor()\n",
    "regressor.fit(X_train_cc, y_train_cc)\n",
    "\n",
    "y_pred = regressor.predict(X_test_full)\n",
    "mse_test_cc = mean_squared_error(y_test, y_pred)\n",
    "print(f\"Test MSE (complete case): {mse_test_cc:.4f}\")"
   ]
  },
  {
   "cell_type": "markdown",
   "id": "e0z2EfeVW9kn",
   "metadata": {
    "id": "e0z2EfeVW9kn"
   },
   "source": [
    "By removing all incomplete rows, only 66 rows remain out of 16,512! Naturally, the MSE is much higher."
   ]
  },
  {
   "cell_type": "markdown",
   "id": "p5yPI9VIXKiT",
   "metadata": {
    "id": "p5yPI9VIXKiT"
   },
   "source": [
    "## Question 5 : iterative imputation"
   ]
  },
  {
   "cell_type": "markdown",
   "id": "8VlZaCvFXMHO",
   "metadata": {
    "id": "8VlZaCvFXMHO"
   },
   "source": [
    "Compare the result with a more advanced imputation method, for example using Scikit-learn’s `IterativeImputer` class. Can any conclusion be drawn about the benefits of this more sophisticated imputation?"
   ]
  },
  {
   "cell_type": "markdown",
   "id": "HkKkPhKsXaul",
   "metadata": {
    "id": "HkKkPhKsXaul",
    "jp-MarkdownHeadingCollapsed": true
   },
   "source": [
    "### Solution"
   ]
  },
  {
   "cell_type": "code",
   "execution_count": null,
   "id": "8hMMsb7eXZrp",
   "metadata": {
    "colab": {
     "base_uri": "https://localhost:8080/"
    },
    "id": "8hMMsb7eXZrp",
    "outputId": "1172dcbd-b16c-4265-e7af-d3280c15d980"
   },
   "outputs": [],
   "source": [
    "imputer = IterativeImputer()\n",
    "X_train_ii = imputer.fit_transform(X_train_miss)\n",
    "\n",
    "regressor = RandomForestRegressor()\n",
    "regressor.fit(X_train_ii, y_train)\n",
    "\n",
    "y_pred = regressor.predict(X_test_full)\n",
    "mse_test_ii = mean_squared_error(y_test, y_pred)\n",
    "print(f\"Test MSE (iterative imputation): {mse_test_ii:.4f}\")"
   ]
  },
  {
   "cell_type": "markdown",
   "id": "Jwsi09Q4X7gU",
   "metadata": {
    "id": "Jwsi09Q4X7gU"
   },
   "source": [
    "The scores are close. Without a confidence interval, it is difficult to conclude on the benefit of iterative imputation compared to mean imputation in this case."
   ]
  },
  {
   "cell_type": "markdown",
   "id": "CUujEsRJNL4N",
   "metadata": {
    "id": "CUujEsRJNL4N"
   },
   "source": [
    "## Question 6 : the trap of model validation"
   ]
  },
  {
   "cell_type": "markdown",
   "id": "Lgx-v94jNPKk",
   "metadata": {
    "id": "Lgx-v94jNPKk"
   },
   "source": [
    "Now, the goal is to apply the same cross-validation strategy as in Exercise 1 to obtain a confidence interval for the MSE and compare the imputation methods. Start again from the mean-imputed training set `X_train_imp`, and perform cross-validation of your model on it. Is the test set score within the confidence interval? What conclusions can be drawn?"
   ]
  },
  {
   "cell_type": "markdown",
   "id": "PLhkSzGNQal_",
   "metadata": {
    "id": "PLhkSzGNQal_",
    "jp-MarkdownHeadingCollapsed": true
   },
   "source": [
    "### Solution"
   ]
  },
  {
   "cell_type": "code",
   "execution_count": null,
   "id": "SKcUne2xOTBx",
   "metadata": {
    "id": "SKcUne2xOTBx"
   },
   "outputs": [],
   "source": [
    "regressor = RandomForestRegressor()\n",
    "\n",
    "mse_cv_imp = - cross_val_score(\n",
    "    regressor,\n",
    "    X_train_imp, y_train,\n",
    "    cv=10, scoring='neg_mean_squared_error')"
   ]
  },
  {
   "cell_type": "code",
   "execution_count": null,
   "id": "9-KC0VpXObHm",
   "metadata": {
    "colab": {
     "base_uri": "https://localhost:8080/"
    },
    "id": "9-KC0VpXObHm",
    "outputId": "bf2e8f1d-6921-4cb7-95f0-56a5a756c6bd"
   },
   "outputs": [],
   "source": [
    "mu = mse_cv_imp.mean()\n",
    "sigma = mse_cv_imp.std()\n",
    "print(f\"CV MSE: {mu:.4f} +/- {2*sigma:.4f} --- [{mu-2*sigma:.4f} ; {mu+2*sigma:.4f}] (95% confidence)\")\n",
    "print(f\"Test MSE: {mse_test_imp:.4f}\")"
   ]
  },
  {
   "cell_type": "markdown",
   "id": "Z_BAKB5osEMf",
   "metadata": {
    "id": "Z_BAKB5osEMf"
   },
   "source": [
    "The result on the test set is very different (here, much better) than in cross-validation. This is due to a distribution shift between the training and test sets. By introducing missing values in `X_train` but not in `X_test`, a not-i.i.d. situation arises, which prevents validating the model through cross-validation. Therefore, further progress cannot be made.\n",
    "\n",
    "This situation often occurs in practice. a typical scenario can be that ten years of archived data are available to train a model but suffer from missing values (among other issues), while a new protocol has been implemented recently to record clean data and validate the model on it."
   ]
  },
  {
   "cell_type": "markdown",
   "id": "3LWBpTE7QMXB",
   "metadata": {
    "id": "3LWBpTE7QMXB"
   },
   "source": [
    "# Exercice 3 : both the training set and the new data are incomplete"
   ]
  },
  {
   "cell_type": "markdown",
   "id": "nBcQpN-YZrqU",
   "metadata": {
    "id": "nBcQpN-YZrqU"
   },
   "source": [
    "Now, missing values are also present in `X_test`, so there is no distribution shift. This brings us back to an i.i.d. setting."
   ]
  },
  {
   "cell_type": "markdown",
   "id": "N2UUdPVkbDa6",
   "metadata": {
    "id": "N2UUdPVkbDa6"
   },
   "source": [
    "## Question 1 : generating missing values"
   ]
  },
  {
   "cell_type": "markdown",
   "id": "HUGHb-DkbGFG",
   "metadata": {
    "id": "HUGHb-DkbGFG"
   },
   "source": [
    "As in Exercise 2, generate missing values on a copy of `X_test_full`, which can be called `X_test_miss`."
   ]
  },
  {
   "cell_type": "markdown",
   "id": "nkQzw23qbZ2K",
   "metadata": {
    "id": "nkQzw23qbZ2K",
    "jp-MarkdownHeadingCollapsed": true
   },
   "source": [
    "### Solution"
   ]
  },
  {
   "cell_type": "code",
   "execution_count": null,
   "id": "FjToMuhTbbh-",
   "metadata": {
    "id": "FjToMuhTbbh-"
   },
   "outputs": [],
   "source": [
    "X_test_miss = np.copy(X_test_full)\n",
    "\n",
    "p = 0.5\n",
    "n, d = X_test_miss.shape\n",
    "\n",
    "for j in range(d):\n",
    "  miss_id = (np.random.uniform(0, 1, size=n) < p)\n",
    "  X_test_miss[miss_id, j] = np.nan"
   ]
  },
  {
   "cell_type": "markdown",
   "id": "upLqHOZ8bpx4",
   "metadata": {
    "id": "upLqHOZ8bpx4"
   },
   "source": [
    "## Question 2 : two-step strategy"
   ]
  },
  {
   "cell_type": "markdown",
   "id": "pp497EZlbsQb",
   "metadata": {
    "id": "pp497EZlbsQb"
   },
   "source": [
    "Implement a pipeline with an imputation method that works *out-of-sample* and a regression model (you can use the `sklearn.pipeline` and `sklearn.impute` modules). Train the pipeline on `X_train_miss` and make predictions on `X_test_miss`. Compare the obtained MSE with the one in the case without missing values."
   ]
  },
  {
   "cell_type": "markdown",
   "id": "eLAOcYUvhPz5",
   "metadata": {
    "id": "eLAOcYUvhPz5",
    "jp-MarkdownHeadingCollapsed": true
   },
   "source": [
    "### Solution"
   ]
  },
  {
   "cell_type": "code",
   "execution_count": null,
   "id": "Pj8K5-qdbWSx",
   "metadata": {
    "colab": {
     "base_uri": "https://localhost:8080/"
    },
    "id": "Pj8K5-qdbWSx",
    "outputId": "967c4869-61f3-4da2-8f77-24ddf58a68d1"
   },
   "outputs": [],
   "source": [
    "pipeline = Pipeline([\n",
    "    ('imputer', SimpleImputer()),\n",
    "    ('regressor', RandomForestRegressor())\n",
    "])\n",
    "\n",
    "pipeline.fit(X_train_miss, y_train)\n",
    "\n",
    "y_pred = pipeline.predict(X_test_miss)\n",
    "mse_test_mistest = mean_squared_error(y_test, y_pred)\n",
    "print(f\"Test MSE (NA in test): {mse_test_mistest:.4f}\")"
   ]
  },
  {
   "cell_type": "markdown",
   "id": "PQZKqupqdBmg",
   "metadata": {
    "id": "PQZKqupqdBmg"
   },
   "source": [
    "As expected, the MSE is significantly higher than in the case without missing values."
   ]
  },
  {
   "cell_type": "markdown",
   "id": "W-qrqggodRvb",
   "metadata": {
    "id": "W-qrqggodRvb"
   },
   "source": [
    "## Question 3 : cross-validation"
   ]
  },
  {
   "cell_type": "markdown",
   "id": "rbHGfevvdUi8",
   "metadata": {
    "id": "rbHGfevvdUi8"
   },
   "source": [
    "Perform cross-validation on `X_train_miss` and verify that the score on `X_test_miss` falls within the confidence interval of the cross-validation."
   ]
  },
  {
   "cell_type": "markdown",
   "id": "D8mxBbTNhS8T",
   "metadata": {
    "id": "D8mxBbTNhS8T",
    "jp-MarkdownHeadingCollapsed": true
   },
   "source": [
    "### Solution"
   ]
  },
  {
   "cell_type": "code",
   "execution_count": null,
   "id": "IXzKwdPudsQb",
   "metadata": {
    "id": "IXzKwdPudsQb"
   },
   "outputs": [],
   "source": [
    "pipeline = Pipeline([\n",
    "    ('imputer', SimpleImputer()),\n",
    "    ('regressor', RandomForestRegressor())\n",
    "])\n",
    "\n",
    "mse_cv_mistest = - cross_val_score(\n",
    "    pipeline,\n",
    "    X_train_miss, y_train,\n",
    "    cv=10, scoring='neg_mean_squared_error')"
   ]
  },
  {
   "cell_type": "code",
   "execution_count": null,
   "id": "cs7bKG2ReMgQ",
   "metadata": {
    "colab": {
     "base_uri": "https://localhost:8080/"
    },
    "id": "cs7bKG2ReMgQ",
    "outputId": "7833a1c2-a9c6-4959-dd70-1f757f5e8c1f"
   },
   "outputs": [],
   "source": [
    "mu = mse_cv_mistest.mean()\n",
    "sigma = mse_cv_mistest.std()\n",
    "print(f\"CV MSE: {mu:.4f} +/- {2*sigma:.4f} --- [{mu-2*sigma:.4f} ; {mu+2*sigma:.4f}] (95% confidence)\")\n",
    "print(f\"Test MSE: {mse_test_mistest:.4f}\")"
   ]
  },
  {
   "cell_type": "markdown",
   "id": "2XM0T09wfHlQ",
   "metadata": {
    "id": "2XM0T09wfHlQ"
   },
   "source": [
    "## Question 4 : one-step strategy"
   ]
  },
  {
   "cell_type": "markdown",
   "id": "8xnTknNUfJUI",
   "metadata": {
    "id": "8xnTknNUfJUI"
   },
   "source": [
    "Train a tree-based regression model on `X_train_miss` that can handle incomplete data using the one-step technique (use `sklearn.ensemble`). Make predictions on `X_test_miss`. Compare the obtained MSE with the two-step strategy."
   ]
  },
  {
   "cell_type": "markdown",
   "id": "13EPs3Q2gIc7",
   "metadata": {
    "id": "13EPs3Q2gIc7",
    "jp-MarkdownHeadingCollapsed": true
   },
   "source": [
    "### Solution"
   ]
  },
  {
   "cell_type": "code",
   "execution_count": null,
   "id": "haI2deGGgGqU",
   "metadata": {
    "colab": {
     "base_uri": "https://localhost:8080/"
    },
    "id": "haI2deGGgGqU",
    "outputId": "0e304f1d-69ae-45a3-d3d2-33c557648df5"
   },
   "outputs": [],
   "source": [
    "regressor = RandomForestRegressor()\n",
    "\n",
    "regressor.fit(X_train_miss, y_train)\n",
    "\n",
    "y_pred = regressor.predict(X_test_miss)\n",
    "mse_test_1s = mean_squared_error(y_test, y_pred)\n",
    "print(f\"Test MSE (one step): {mse_test_1s:.4f}\")"
   ]
  },
  {
   "cell_type": "markdown",
   "id": "LmdzipqBggEN",
   "metadata": {
    "id": "LmdzipqBggEN"
   },
   "source": [
    "## Question 5 : cross-validation"
   ]
  },
  {
   "cell_type": "markdown",
   "id": "3nUPxt2TgrrK",
   "metadata": {
    "id": "3nUPxt2TgrrK"
   },
   "source": [
    "Clarify this result with a cross-validation."
   ]
  },
  {
   "cell_type": "markdown",
   "id": "RtNuxLCjgk97",
   "metadata": {
    "id": "RtNuxLCjgk97",
    "jp-MarkdownHeadingCollapsed": true
   },
   "source": [
    "### Solution"
   ]
  },
  {
   "cell_type": "code",
   "execution_count": null,
   "id": "TP0MI92RgqZh",
   "metadata": {
    "id": "TP0MI92RgqZh"
   },
   "outputs": [],
   "source": [
    "regressor = RandomForestRegressor()\n",
    "\n",
    "mse_cv_1s = - cross_val_score(\n",
    "    regressor,\n",
    "    X_train_miss, y_train,\n",
    "    cv=10, scoring='neg_mean_squared_error')"
   ]
  },
  {
   "cell_type": "code",
   "execution_count": null,
   "id": "DYdHCMHlg4tJ",
   "metadata": {
    "colab": {
     "base_uri": "https://localhost:8080/"
    },
    "id": "DYdHCMHlg4tJ",
    "outputId": "1838230c-5b90-4561-d775-63e30339b56f"
   },
   "outputs": [],
   "source": [
    "mu = mse_cv_1s.mean()\n",
    "sigma = mse_cv_1s.std()\n",
    "print(f\"CV MSE: {mu:.4f} +/- {2*sigma:.4f} --- [{mu-2*sigma:.4f} ; {mu+2*sigma:.4f}] (95% confidence)\")\n",
    "print(f\"Test MSE: {mse_test_1s:.4f}\")"
   ]
  }
 ],
 "metadata": {
  "colab": {
   "provenance": [
    {
     "file_id": "1vHSAIkR-U-aU7JLlherg7AKtKEHFpVBV",
     "timestamp": 1756901706068
    }
   ]
  },
  "kernelspec": {
   "display_name": "Python 3 (ipykernel)",
   "language": "python",
   "name": "python3"
  },
  "language_info": {
   "codemirror_mode": {
    "name": "ipython",
    "version": 3
   },
   "file_extension": ".py",
   "mimetype": "text/x-python",
   "name": "python",
   "nbconvert_exporter": "python",
   "pygments_lexer": "ipython3",
   "version": "3.12.2"
  }
 },
 "nbformat": 4,
 "nbformat_minor": 5
}
